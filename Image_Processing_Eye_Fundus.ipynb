{
  "cells": [
    {
      "cell_type": "markdown",
      "id": "306a743f",
      "metadata": {
        "id": "306a743f"
      },
      "source": [
        "# **Image Processing: Eye Fundus**\n",
        "https://en.wikipedia.org/wiki/Fundus_(eye)"
      ]
    },
    {
      "cell_type": "markdown",
      "source": [
        "## Extracting Data"
      ],
      "metadata": {
        "id": "xiOAHqRBeYO7"
      },
      "id": "xiOAHqRBeYO7"
    },
    {
      "cell_type": "code",
      "source": [
        "!unzip Eye.zip"
      ],
      "metadata": {
        "id": "22fWW8ALeXkw"
      },
      "id": "22fWW8ALeXkw",
      "execution_count": null,
      "outputs": []
    },
    {
      "cell_type": "markdown",
      "id": "a84acfca",
      "metadata": {
        "id": "a84acfca"
      },
      "source": [
        "## Necessary Imports and Helper Code"
      ]
    },
    {
      "cell_type": "markdown",
      "source": [
        "Imports and constants"
      ],
      "metadata": {
        "id": "3L3EFNkDW7A6"
      },
      "id": "3L3EFNkDW7A6"
    },
    {
      "cell_type": "code",
      "execution_count": null,
      "id": "35db54d7",
      "metadata": {
        "id": "35db54d7"
      },
      "outputs": [],
      "source": [
        "import cv2\n",
        "import numpy as np\n",
        "import os\n",
        "\n",
        "import matplotlib.pyplot as plt\n",
        "\n",
        "RGB = cv2.COLOR_BGR2RGB\n",
        "YCrCb = cv2.COLOR_BGR2YCR_CB\n",
        "R, G, B = 0, 1, 2\n",
        "Y, Cr, Cb = 0, 1, 2\n",
        "color_space_idx = {\n",
        "    RGB: {0: 'Red', 1: 'Green', 2: 'Blue'},\n",
        "    YCrCb: {0: 'Yellow', 1: 'Red diff chroma', 2: 'Blue diff chroma'}\n",
        "}"
      ]
    },
    {
      "cell_type": "markdown",
      "source": [
        "Helper code - extract and compare planes"
      ],
      "metadata": {
        "id": "6Y64Rnr2XFuF"
      },
      "id": "6Y64Rnr2XFuF"
    },
    {
      "cell_type": "code",
      "execution_count": null,
      "id": "e6d4d638",
      "metadata": {
        "id": "e6d4d638"
      },
      "outputs": [],
      "source": [
        "# Can pass in different enhancement functions written to enhance a channel to this function and compare them\n",
        "# visually\n",
        "def compare_enhancements(color_space, channel_idx, display_hist=False, *enhancements):\n",
        "    fig = plt.figure(figsize=(20, 80))\n",
        "    rows = 15\n",
        "    h = 1 if display_hist==True else 0\n",
        "    columns = len(enhancements) + 1\n",
        "    for i, entry in enumerate(os.scandir('Eye')):\n",
        "        if entry.is_file():\n",
        "            image = cv2.cvtColor(cv2.imread(entry.path, 1), color_space)\n",
        "            if h == 1:\n",
        "                fig.add_subplot(rows, columns, columns*i+h)\n",
        "                plt.title('Histogram: '+ entry.name)\n",
        "                plt.hist(image[:,:,channel_idx].ravel(),256,[0,256])\n",
        "            for idx, enhancement in enumerate(enhancements):\n",
        "                fig.add_subplot(rows, columns, columns*i+1+h+idx)\n",
        "                if idx == 0:\n",
        "                    plt.title(enhancement.__name__ + ' ' + ' ' + entry.name)\n",
        "                else:\n",
        "                    plt.title(enhancement.__name__)\n",
        "                plt.imshow(enhancement(image[:,:,channel_idx]), cmap='gray', vmin = 0, vmax = 255)\n",
        "\n",
        "\n",
        "# Function to extract(display) planes according to colorspaces RGB and YCrCb\n",
        "def display_planes(colorspace):\n",
        "    fig = plt.figure(figsize=(20, 80))\n",
        "    rows = 15\n",
        "    columns = 4\n",
        "    for i, entry in enumerate(os.scandir('Eye')):\n",
        "        if entry.is_file():\n",
        "            image = cv2.cvtColor(cv2.imread(entry.path, 1), colorspace)\n",
        "            fig.add_subplot(rows, columns, 4*i+1)\n",
        "            plt.title('Original: '+ entry.name)\n",
        "            plt.imshow(image)\n",
        "            fig.add_subplot(rows, columns, 4*i+2)\n",
        "            plt.title(f'{color_space_idx[colorspace][0]} Channel: '+ entry.name)\n",
        "            plt.imshow(image[:,:,0],cmap='gray', vmin = 0, vmax = 255)\n",
        "            fig.add_subplot(rows, columns, 4*i+3)\n",
        "            plt.title(f'{color_space_idx[colorspace][1]} Channel: '+ entry.name)\n",
        "            plt.imshow(image[:,:,1],cmap='gray', vmin = 0, vmax = 255)\n",
        "            fig.add_subplot(rows, columns, 4*i+4)\n",
        "            plt.title(f'{color_space_idx[colorspace][2]} Channel: '+ entry.name)\n",
        "            plt.imshow(image[:,:,2],cmap='gray', vmin = 0, vmax = 255)"
      ]
    },
    {
      "cell_type": "markdown",
      "source": [
        "Helper code - transformations and enhancements"
      ],
      "metadata": {
        "id": "KYLZHOQFXUpB"
      },
      "id": "KYLZHOQFXUpB"
    },
    {
      "cell_type": "code",
      "execution_count": null,
      "id": "828848a8",
      "metadata": {
        "id": "828848a8"
      },
      "outputs": [],
      "source": [
        "# Transformations and Enhancements\n",
        "\n",
        "def identity(image):\n",
        "    return image\n",
        "\n",
        "def inverse_image(image):\n",
        "    return 1 - image\n",
        "\n",
        "def log_image(image):\n",
        "    c = 255 / np.log(1 + np.max(image))\n",
        "    log_image = c * (np.log(image + 1))\n",
        "    log_image = np.array(log_image, dtype = np.uint8)\n",
        "    return log_image\n",
        "\n",
        "def inv_log_image(image):\n",
        "    inv_log_image = 1 - log_image(image)\n",
        "    return inv_log_image\n",
        "\n",
        "# Different gamma parents require different methods! Else the compare_enhancements method becomes ugly\n",
        "def gamma_4_image(image):\n",
        "    c = 1\n",
        "    gamma = 4\n",
        "    power_image = c * np.array(255*(image/255)**gamma,dtype='uint8')\n",
        "    power_image = np.array(power_image, dtype = np.uint8)\n",
        "    return power_image\n",
        "\n",
        "def gamma_3_image(image):\n",
        "    c = 1\n",
        "    gamma = 3\n",
        "    power_image = c * np.array(255*(image/255)**gamma,dtype='uint8')\n",
        "    power_image = np.array(power_image, dtype = np.uint8)\n",
        "    return power_image\n",
        "\n",
        "def gamma_2_image(image):\n",
        "    c = 1\n",
        "    gamma = 2\n",
        "    power_image = c * np.array(255*(image/255)**gamma,dtype='uint8')\n",
        "    power_image = np.array(power_image, dtype = np.uint8)\n",
        "    return power_image\n",
        "\n",
        "# Different gamma parents require different methods! Else the compare_enhancements method becomes ugly\n",
        "def gamma_p5_image(image):\n",
        "    c = 1\n",
        "    gamma = 0.5\n",
        "    power_image = c * np.array(255*(image/255)**gamma,dtype='uint8')\n",
        "    power_image = np.array(power_image, dtype = np.uint8)\n",
        "    return power_image\n",
        "\n",
        "def gamma_p4_image(image):\n",
        "    c = 1\n",
        "    gamma = 0.4\n",
        "    power_image = c * np.array(255*(image/255)**gamma,dtype='uint8')\n",
        "    power_image = np.array(power_image, dtype = np.uint8)\n",
        "    return power_image\n",
        "\n",
        "def gamma_p3_image(image):\n",
        "    c = 1\n",
        "    gamma = 0.3\n",
        "    power_image = c * np.array(255*(image/255)**gamma,dtype='uint8')\n",
        "    power_image = np.array(power_image, dtype = np.uint8)\n",
        "    return power_image\n",
        "\n",
        "def gamma_p2_image(image):\n",
        "    c = 1\n",
        "    gamma = 0.2\n",
        "    power_image = c * np.array(255*(image/255)**gamma,dtype='uint8')\n",
        "    power_image = np.array(power_image, dtype = np.uint8)\n",
        "    return power_image\n",
        "\n",
        "def hist_equalized_image(image):\n",
        "    he_image = cv2.equalizeHist(image)\n",
        "    return he_image\n",
        "\n",
        "def contrast_stretch_image(image):\n",
        "    def pixelVal(pix, r1, s1, r2, s2):\n",
        "        if (0 <= pix and pix <= r1):\n",
        "            return (s1 / r1)*pix\n",
        "        elif (r1 < pix and pix <= r2):\n",
        "            return ((s2 - s1)/(r2 - r1)) * (pix - r1) + s1\n",
        "        else:\n",
        "            return ((255 - s2)/(255 - r2)) * (pix - r2) + s2\n",
        "    r1 = 70\n",
        "    s1 = 45\n",
        "    r2 = 140\n",
        "    s2 = 210\n",
        "    pixelVal_vec = np.vectorize(pixelVal)\n",
        "    contrast_stretched = pixelVal_vec(image, r1, s1, r2, s2)\n",
        "    return contrast_stretched\n",
        "\n",
        "def intensity_sliced_image(image):\n",
        "    def pixelVal(pix, r1, r2):\n",
        "        if (0 <= pix and pix <= r1):\n",
        "            return pix\n",
        "        elif (r1 < pix and pix <= r2):\n",
        "            return 100\n",
        "        else:\n",
        "            return pix\n",
        "    r1 = 70\n",
        "    r2 = 140\n",
        "    pixelVal_vec = np.vectorize(pixelVal)\n",
        "    intensitySliced_stretched_image = pixelVal_vec(image, r1, r2)\n",
        "    return intensitySliced_stretched_image\n",
        "\n",
        "def sharpening_kernel1(image):\n",
        "    kernel1 = np.array([[0, -1, 0],\n",
        "                        [-1, 5, -1],\n",
        "                        [0, -1, 0]])\n",
        "    sharp_img = cv2.filter2D(src=image, ddepth=-1, kernel=kernel1)\n",
        "    return sharp_img\n",
        "\n",
        "def sharpening_kernel2(image):\n",
        "    kernel2 = np.array([[-1, -1, -1],\n",
        "                        [-1, 9, -1],\n",
        "                        [-1, -1, -1]])\n",
        "    sharp_img = cv2.filter2D(src=image, ddepth=-1, kernel=kernel2)\n",
        "    return sharp_img\n",
        "\n",
        "def combination1(image):\n",
        "    image1 = log_image(image)\n",
        "    comb_image = sharpening_kernel2(image1)\n",
        "    return comb_image"
      ]
    },
    {
      "cell_type": "markdown",
      "id": "da4422e9",
      "metadata": {
        "id": "da4422e9"
      },
      "source": [
        "## Extract planes - Red(R), Green(G), Blue(B)"
      ]
    },
    {
      "cell_type": "code",
      "execution_count": null,
      "id": "cc876b54",
      "metadata": {
        "id": "cc876b54"
      },
      "outputs": [],
      "source": [
        "display_planes(RGB)"
      ]
    },
    {
      "cell_type": "markdown",
      "id": "9018dcd6",
      "metadata": {
        "id": "9018dcd6"
      },
      "source": [
        "### Enhancing Red Channel\n",
        "**This channel is too bright to infer useful visual info. So we try different enhancement methods - redistributing pixel values from bright pixel ranges to darker ranges and pick the one that give the best result visually. Methods: histogram equalization / power law transformation / contrast stretching / inverse log transformation and pick the best among them.**"
      ]
    },
    {
      "cell_type": "code",
      "execution_count": null,
      "id": "25a56c34",
      "metadata": {
        "id": "25a56c34"
      },
      "outputs": [],
      "source": [
        "compare_enhancements(RGB, 0, False, identity,\n",
        "                     hist_equalized_image,\n",
        "                     gamma_3_image,\n",
        "                     contrast_stretch_image,\n",
        "                     inv_log_image\n",
        "                     )"
      ]
    },
    {
      "cell_type": "markdown",
      "id": "30618494",
      "metadata": {
        "id": "30618494"
      },
      "source": [
        "**We can see that histogram equilization gives the best enhancement for most images**"
      ]
    },
    {
      "cell_type": "code",
      "execution_count": null,
      "id": "603d60c5",
      "metadata": {
        "id": "603d60c5"
      },
      "outputs": [],
      "source": [
        "#select function that gave the best enhancement\n",
        "red_enhancement = hist_equalized_image"
      ]
    },
    {
      "cell_type": "markdown",
      "id": "cdbc1fb9",
      "metadata": {
        "id": "cdbc1fb9"
      },
      "source": [
        "### Enhancing Green Channel\n",
        "**This channel has most information about nerves so we try different sharpening methods suited for this scenario and pick the one that give the best result visually. Methods: sharpening_kernel1 / sharpening_kernel2**"
      ]
    },
    {
      "cell_type": "code",
      "execution_count": null,
      "id": "c32e4251",
      "metadata": {
        "id": "c32e4251"
      },
      "outputs": [],
      "source": [
        "compare_enhancements(RGB, 1, False, identity, sharpening_kernel1, sharpening_kernel2)"
      ]
    },
    {
      "cell_type": "markdown",
      "id": "3734e307",
      "metadata": {
        "id": "3734e307"
      },
      "source": [
        "**We can see that sharpening_kernel2 gives the best enhancement overall**"
      ]
    },
    {
      "cell_type": "code",
      "execution_count": null,
      "id": "576b39bb",
      "metadata": {
        "id": "576b39bb"
      },
      "outputs": [],
      "source": [
        "#select function that gave the best enhancement\n",
        "green_enhancement = sharpening_kernel2"
      ]
    },
    {
      "cell_type": "markdown",
      "id": "e7cb4e9c",
      "metadata": {
        "id": "e7cb4e9c"
      },
      "source": [
        "### Enhancing Blue Channel\n",
        "**This channel are very dark to infer useful info. So we try different enhancement methods  redistributing pixel values from dark pixel ranges to brighter ranges and pick the one that give the best result visually. Methods: power law transformation / contrast stretching / log transformation or some combinaton and pick the best among them.**"
      ]
    },
    {
      "cell_type": "code",
      "execution_count": null,
      "id": "6ccf2557",
      "metadata": {
        "id": "6ccf2557"
      },
      "outputs": [],
      "source": [
        "compare_enhancements(RGB, 2, False, identity,\n",
        "                     gamma_p3_image,\n",
        "                     combination1,\n",
        "                     contrast_stretch_image,\n",
        "                     log_image)"
      ]
    },
    {
      "cell_type": "markdown",
      "id": "e6f2ed10",
      "metadata": {
        "id": "e6f2ed10"
      },
      "source": [
        "**We can see that the enhancements are not really great neverthless combination1 - log_image + sharpening_kernel2 gives the best enhancement overall**"
      ]
    },
    {
      "cell_type": "code",
      "execution_count": null,
      "id": "0fa5338e",
      "metadata": {
        "id": "0fa5338e"
      },
      "outputs": [],
      "source": [
        "# select function that gave the best enhancement\n",
        "blue_enhancement = combination1"
      ]
    },
    {
      "cell_type": "markdown",
      "id": "329e89d3",
      "metadata": {
        "id": "329e89d3"
      },
      "source": [
        "### Try Combinations of enhanced Channels"
      ]
    },
    {
      "cell_type": "markdown",
      "id": "962061fd",
      "metadata": {
        "id": "962061fd"
      },
      "source": [
        "#### One channel enhanced"
      ]
    },
    {
      "cell_type": "code",
      "execution_count": null,
      "id": "9160f24e",
      "metadata": {
        "id": "9160f24e"
      },
      "outputs": [],
      "source": [
        "fig = plt.figure(figsize=(20, 80))\n",
        "rows = 15\n",
        "columns = 4\n",
        "for i, entry in enumerate(os.scandir('Eye')):\n",
        "    if entry.is_file():\n",
        "        image = cv2.cvtColor(cv2.imread(entry.path, 1), cv2.COLOR_BGR2RGB)\n",
        "\n",
        "        # original channels\n",
        "        or_channel = image[:,:,0]\n",
        "        og_channel = image[:,:,1]\n",
        "        ob_channel = image[:,:,2]\n",
        "        # enhanced channels\n",
        "        er_channel = red_enhancement(image[:,:,0])\n",
        "        eg_channel = green_enhancement(image[:,:,1])\n",
        "        eb_channel = blue_enhancement(image[:,:,2])\n",
        "\n",
        "        # Plot combinations\n",
        "        # original image\n",
        "        fig.add_subplot(rows, columns, columns*i+1)\n",
        "        plt.title('Original: '+ entry.name)\n",
        "        plt.imshow(image)\n",
        "\n",
        "        # image with one enhanced channels\n",
        "        fig.add_subplot(rows, columns, columns*i+2)\n",
        "        plt.title('EnhancedRed: ')\n",
        "        plt.imshow(cv2.merge((er_channel, og_channel, ob_channel)))\n",
        "        fig.add_subplot(rows, columns, columns*i+3)\n",
        "        plt.title('EnhancedGreen: '+ entry.name)\n",
        "        plt.imshow(cv2.merge((or_channel, eg_channel, ob_channel)))\n",
        "        fig.add_subplot(rows, columns, columns*i+4)\n",
        "        plt.title('EnhancedBlue: '+ entry.name)\n",
        "        plt.imshow(cv2.merge((or_channel, og_channel, eb_channel)))"
      ]
    },
    {
      "cell_type": "markdown",
      "id": "accd4463",
      "metadata": {
        "id": "accd4463"
      },
      "source": [
        "#### Two channels enhanced"
      ]
    },
    {
      "cell_type": "code",
      "execution_count": null,
      "id": "2ec96b21",
      "metadata": {
        "id": "2ec96b21"
      },
      "outputs": [],
      "source": [
        "fig = plt.figure(figsize=(20, 80))\n",
        "rows = 15\n",
        "columns = 5\n",
        "for i, entry in enumerate(os.scandir('Eye')):\n",
        "    if entry.is_file():\n",
        "        image = cv2.cvtColor(cv2.imread(entry.path, 1), cv2.COLOR_BGR2RGB)\n",
        "\n",
        "        # original channels\n",
        "        or_channel = image[:,:,0]\n",
        "        og_channel = image[:,:,1]\n",
        "        ob_channel = image[:,:,2]\n",
        "        # enhanced channels\n",
        "        er_channel = red_enhancement(image[:,:,0])\n",
        "        eg_channel = green_enhancement(image[:,:,1])\n",
        "        eb_channel = blue_enhancement(image[:,:,2])\n",
        "\n",
        "        # Plot combinations\n",
        "        # original image\n",
        "        fig.add_subplot(rows, columns, columns*i+1)\n",
        "        plt.title('Original: '+ entry.name)\n",
        "        plt.imshow(image)\n",
        "\n",
        "        # image with two enhanced channels\n",
        "        fig.add_subplot(rows, columns, columns*i+2)\n",
        "        plt.title('EnhancedRedGreen: ')\n",
        "        plt.imshow(cv2.merge((er_channel, eg_channel, ob_channel)))\n",
        "        fig.add_subplot(rows, columns, columns*i+3)\n",
        "        plt.title('EnhancedGreenBlue Channel: ')\n",
        "        plt.imshow(cv2.merge((or_channel, eg_channel, eb_channel)))\n",
        "        fig.add_subplot(rows, columns, columns*i+4)\n",
        "        plt.title('EnhancedBlueRed Channel: ')\n",
        "        plt.imshow(cv2.merge((er_channel, og_channel, eb_channel)))\n",
        "\n",
        "        # image with all channels enhanced\n",
        "        fig.add_subplot(rows, columns, columns*i+5)\n",
        "        plt.title('Enhanced RGB Channel: ')\n",
        "        plt.imshow(cv2.merge((er_channel, eg_channel, eb_channel)))"
      ]
    },
    {
      "cell_type": "markdown",
      "id": "97fe7a20",
      "metadata": {
        "id": "97fe7a20"
      },
      "source": [
        "#### Comparison between 'best' channels"
      ]
    },
    {
      "cell_type": "code",
      "execution_count": null,
      "id": "14525a61",
      "metadata": {
        "id": "14525a61"
      },
      "outputs": [],
      "source": [
        "fig = plt.figure(figsize=(20, 80))\n",
        "rows = 15\n",
        "columns = 4\n",
        "for i, entry in enumerate(os.scandir('Eye')):\n",
        "    if entry.is_file():\n",
        "        image = cv2.cvtColor(cv2.imread(entry.path, 1), cv2.COLOR_BGR2RGB)\n",
        "\n",
        "        # original channels\n",
        "        or_channel = image[:,:,0]\n",
        "        og_channel = image[:,:,1]\n",
        "        ob_channel = image[:,:,2]\n",
        "        # enhanced channels\n",
        "        er_channel = red_enhancement(image[:,:,0])\n",
        "        eg_channel = green_enhancement(image[:,:,1])\n",
        "        eb_channel = blue_enhancement(image[:,:,2])\n",
        "\n",
        "        # Plot combinations\n",
        "        # original image\n",
        "        fig.add_subplot(rows, columns, columns*i+1)\n",
        "        plt.title('Original: '+ entry.name)\n",
        "        plt.imshow(image)\n",
        "\n",
        "        # image with one enhanced channels\n",
        "        fig.add_subplot(rows, columns, columns*i+2)\n",
        "        plt.title('EnhancedGreen: ')\n",
        "        plt.imshow(cv2.merge((or_channel, eg_channel, ob_channel)))\n",
        "\n",
        "        # image with two enhanced channels\n",
        "        fig.add_subplot(rows, columns, columns*i+3)\n",
        "        plt.title('EnhancedRedGreen: ')\n",
        "        plt.imshow(cv2.merge((er_channel, eg_channel, ob_channel)))\n",
        "\n",
        "        # image with all channels enhanced\n",
        "        fig.add_subplot(rows, columns, columns*i+4)\n",
        "        plt.title('Enhanced RGB Channel: ')\n",
        "        plt.imshow(cv2.merge((er_channel, eg_channel, eb_channel)))"
      ]
    },
    {
      "cell_type": "markdown",
      "id": "25ebeee4",
      "metadata": {
        "id": "25ebeee4"
      },
      "source": [
        "### Inference\n",
        "**Some of these are very close, but overall we can see that the combination with enhancement on both red and green retains and enhances most information : The nerves and the bright spot where they join are visually more perceivable and crisp**"
      ]
    },
    {
      "cell_type": "markdown",
      "id": "4ebc227f",
      "metadata": {
        "id": "4ebc227f"
      },
      "source": [
        "## Extract planes - Luma/brightness(Y), Chroma components(Cb),(Cr)"
      ]
    },
    {
      "cell_type": "code",
      "execution_count": null,
      "id": "da7d5e9c",
      "metadata": {
        "id": "da7d5e9c"
      },
      "outputs": [],
      "source": [
        "display_planes(YCrCb)"
      ]
    },
    {
      "cell_type": "markdown",
      "id": "d837993b",
      "metadata": {
        "id": "d837993b"
      },
      "source": [
        "### Enhancing Y Channel\n",
        "**This channel has most information about nerves so we try different sharpening methods and pick the one that give the best result visually. Methods: sharpening_kernel1 / sharpening_kernel2**"
      ]
    },
    {
      "cell_type": "code",
      "execution_count": null,
      "id": "d13d63da",
      "metadata": {
        "id": "d13d63da"
      },
      "outputs": [],
      "source": [
        "compare_enhancements(YCrCb, 0, False, identity,\n",
        "                     sharpening_kernel1,\n",
        "                     sharpening_kernel2)"
      ]
    },
    {
      "cell_type": "markdown",
      "id": "09a7a795",
      "metadata": {
        "id": "09a7a795"
      },
      "source": [
        "**We can see that overall, the best enhancement for the images is from applying sharpening_kernel2**"
      ]
    },
    {
      "cell_type": "code",
      "execution_count": null,
      "id": "ff68583e",
      "metadata": {
        "id": "ff68583e"
      },
      "outputs": [],
      "source": [
        "# select function that gave the best enhancement\n",
        "y_enhancement = sharpening_kernel2"
      ]
    },
    {
      "cell_type": "markdown",
      "id": "91a848c8",
      "metadata": {
        "id": "91a848c8"
      },
      "source": [
        "### Enhancing Cr Channel\n",
        "**This channel is somewhat bright to infer useful info. So we try different enhancement methods and pick the one that give the best result visually. Methods: histogram equalization / power law transformation / inverse log transformation and pick the best among them.**"
      ]
    },
    {
      "cell_type": "code",
      "execution_count": null,
      "id": "c6bf757a",
      "metadata": {
        "id": "c6bf757a"
      },
      "outputs": [],
      "source": [
        "compare_enhancements(YCrCb, 1, False, identity,\n",
        "                     hist_equalized_image,\n",
        "                     gamma_2_image,\n",
        "                     contrast_stretch_image,\n",
        "                     inv_log_image)"
      ]
    },
    {
      "cell_type": "markdown",
      "id": "9ff2505a",
      "metadata": {
        "id": "9ff2505a"
      },
      "source": [
        "**We can see that power transformation with gamma 2 gives good enhancement**"
      ]
    },
    {
      "cell_type": "code",
      "execution_count": null,
      "id": "71f93902",
      "metadata": {
        "id": "71f93902"
      },
      "outputs": [],
      "source": [
        "# select function that gave the best enhancement\n",
        "cr_enhancement = gamma_2_image"
      ]
    },
    {
      "cell_type": "markdown",
      "id": "bc152426",
      "metadata": {
        "id": "bc152426"
      },
      "source": [
        "### Enhancing Cb Channel\n",
        "**This channel is somewhat dark to infer useful info. So we try different enhancement methods and pick the one that give the best result visually. Methods: histogram equalization / power law transformation / log transformation or some combinaton and pick the best among them.**"
      ]
    },
    {
      "cell_type": "code",
      "execution_count": null,
      "id": "5d6482a9",
      "metadata": {
        "id": "5d6482a9"
      },
      "outputs": [],
      "source": [
        "compare_enhancements(YCrCb, 2, False, identity,\n",
        "                     hist_equalized_image,\n",
        "                     gamma_p5_image,\n",
        "                     gamma_p2_image,\n",
        "                     log_image)"
      ]
    },
    {
      "cell_type": "markdown",
      "id": "f02d2d26",
      "metadata": {
        "id": "f02d2d26"
      },
      "source": [
        "**We can see that the histogram equalized image gives good enhancement as it appears to make the veins and the darker regions of image more pronounced**"
      ]
    },
    {
      "cell_type": "code",
      "execution_count": null,
      "id": "ef27860a",
      "metadata": {
        "id": "ef27860a"
      },
      "outputs": [],
      "source": [
        "cb_enhancement = hist_equalized_image"
      ]
    },
    {
      "cell_type": "markdown",
      "id": "216e9734",
      "metadata": {
        "id": "216e9734"
      },
      "source": [
        "### Try Combinations of enhanced Channels"
      ]
    },
    {
      "cell_type": "markdown",
      "id": "f06e3085",
      "metadata": {
        "id": "f06e3085"
      },
      "source": [
        "**One channel enhanced**"
      ]
    },
    {
      "cell_type": "code",
      "execution_count": null,
      "id": "a2d9b4b9",
      "metadata": {
        "id": "a2d9b4b9"
      },
      "outputs": [],
      "source": [
        "fig = plt.figure(figsize=(20, 80))\n",
        "rows = 15\n",
        "columns = 4\n",
        "for i, entry in enumerate(os.scandir('Eye')):\n",
        "    if entry.is_file():\n",
        "        image = cv2.cvtColor(cv2.imread(entry.path, 1), YCrCb)\n",
        "\n",
        "        # original channels\n",
        "        oy_channel = image[:,:,0]\n",
        "        ocr_channel = image[:,:,1]\n",
        "        ocb_channel = image[:,:,2]\n",
        "        #emhanced channels\n",
        "        ey_channel = y_enhancement(image[:,:,0])\n",
        "        ecr_channel = cr_enhancement(image[:,:,1])\n",
        "        ecb_channel = cb_enhancement(image[:,:,2])\n",
        "\n",
        "        # Plot combinations\n",
        "        # original image\n",
        "        fig.add_subplot(rows, columns, columns*i+1)\n",
        "        plt.title('Original: '+ entry.name)\n",
        "        plt.imshow(image)\n",
        "\n",
        "        # image with one enhanced channels\n",
        "        fig.add_subplot(rows, columns, columns*i+2)\n",
        "        plt.title('EnhancedY: ')\n",
        "        plt.imshow(cv2.merge((ey_channel, ocr_channel, ocb_channel)))\n",
        "        fig.add_subplot(rows, columns, columns*i+3)\n",
        "        plt.title('EnhancedCr: ')\n",
        "        plt.imshow(cv2.merge((oy_channel, ecr_channel, ocb_channel)))\n",
        "        fig.add_subplot(rows, columns, columns*i+4)\n",
        "        plt.title('EnhancedCb: ')\n",
        "        plt.imshow(cv2.merge((oy_channel, ocr_channel, ecb_channel)))"
      ]
    },
    {
      "cell_type": "markdown",
      "id": "89e395e5",
      "metadata": {
        "id": "89e395e5"
      },
      "source": [
        "**Two channels enhanced**"
      ]
    },
    {
      "cell_type": "code",
      "execution_count": null,
      "id": "ab847133",
      "metadata": {
        "id": "ab847133"
      },
      "outputs": [],
      "source": [
        "fig = plt.figure(figsize=(20, 80))\n",
        "rows = 15\n",
        "columns = 5\n",
        "for i, entry in enumerate(os.scandir('Eye')):\n",
        "    if entry.is_file():\n",
        "        image = cv2.cvtColor(cv2.imread(entry.path, 1), YCrCb)\n",
        "\n",
        "        # original channels\n",
        "        oy_channel = image[:,:,0]\n",
        "        ocr_channel = image[:,:,1]\n",
        "        ocb_channel = image[:,:,2]\n",
        "        #emhanced channels\n",
        "        ey_channel = y_enhancement(image[:,:,0])\n",
        "        ecr_channel = cr_enhancement(image[:,:,1])\n",
        "        ecb_channel = cb_enhancement(image[:,:,2])\n",
        "\n",
        "        # Plot combinations\n",
        "        # original image\n",
        "        fig.add_subplot(rows, columns, columns*i+1)\n",
        "        plt.title('Original: '+ entry.name)\n",
        "        plt.imshow(image)\n",
        "\n",
        "        # image with two enhanced channels\n",
        "        fig.add_subplot(rows, columns, columns*i+2)\n",
        "        plt.title('EnhancedYCr: ')\n",
        "        plt.imshow(cv2.merge((ey_channel, ecr_channel, ocb_channel)))\n",
        "        fig.add_subplot(rows, columns, columns*i+3)\n",
        "        plt.title('EnhancedCrCb Channel: ')\n",
        "        plt.imshow(cv2.merge((oy_channel, ecr_channel, ecb_channel)))\n",
        "        fig.add_subplot(rows, columns, columns*i+4)\n",
        "        plt.title('EnhancedYCb Channel: ')\n",
        "        plt.imshow(cv2.merge((ey_channel, ocr_channel, ecb_channel)))\n",
        "\n",
        "        # image with all channels enhanced\n",
        "        fig.add_subplot(rows, columns, columns*i+5)\n",
        "        plt.title('Enhanced YCrCb Channel: ')\n",
        "        plt.imshow(cv2.merge((ey_channel, ecr_channel, ecb_channel)))"
      ]
    },
    {
      "cell_type": "markdown",
      "id": "14472e6e",
      "metadata": {
        "id": "14472e6e"
      },
      "source": [
        "#### Inference\n",
        "**From the above observations, in the YCrCb color space, more information seems to be enhanced and retained when all the channels are enhanced, but in somecases other combinations seem to enhance more useful information**"
      ]
    },
    {
      "cell_type": "markdown",
      "id": "da444ebb",
      "metadata": {
        "id": "da444ebb"
      },
      "source": [
        "### Results\n",
        "\n",
        "As seen above,\n",
        "\n",
        "For RGB color space enhancing red and green channels worked most. This is because the green channel had the most information about the nerves (enhanced by sharpening to make blood vessels more sharp) and the red channel added some more information about the nerves and the bright spot were the nerves meet (enhanced by histogram equilization to make the brighter spot and vessels more distinct). The blue channel did not contain much relevant information and most of the intensities of this channel were very low to actually discern anything even after combinations of enhancement techniques.\n",
        "\n",
        "For the YCrCb color space, it is difficult to comprehend regions of interest just from visualizing the originals. After extracting each planes, we see that the Y channel (enhanced by sharpening to sharpen the blood vessels) has the most information since it is the luma component and corresponds to the intensity. The Cr and Cb channels were enhanced by using power law transformation (gamma=2) and histogram equalization respectively to try to distinguish region of interest from its surroundings. From the combinations visually, it seems that all the enhanced channels are required to retain and enhance blood vessels and other distinctive regions in the image."
      ]
    },
    {
      "cell_type": "code",
      "execution_count": null,
      "id": "2a343ce5",
      "metadata": {
        "id": "2a343ce5"
      },
      "outputs": [],
      "source": []
    }
  ],
  "metadata": {
    "kernelspec": {
      "display_name": "Python 3 (ipykernel)",
      "language": "python",
      "name": "python3"
    },
    "language_info": {
      "codemirror_mode": {
        "name": "ipython",
        "version": 3
      },
      "file_extension": ".py",
      "mimetype": "text/x-python",
      "name": "python",
      "nbconvert_exporter": "python",
      "pygments_lexer": "ipython3",
      "version": "3.7.13"
    },
    "colab": {
      "provenance": []
    }
  },
  "nbformat": 4,
  "nbformat_minor": 5
}